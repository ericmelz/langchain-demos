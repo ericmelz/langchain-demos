{
 "cells": [
  {
   "cell_type": "code",
   "execution_count": 21,
   "id": "b321cbe8-8c72-46ce-8c75-6a9b95436a7b",
   "metadata": {},
   "outputs": [],
   "source": [
    "from dotenv import load_dotenv\n",
    "from typing import Any, Dict, List\n",
    "from operator import itemgetter\n",
    "\n",
    "from langchain.chat_models import init_chat_model\n",
    "from langchain_core.runnables import RunnableLambda\n",
    "from typing_extensions import TypedDict\n",
    "from langchain_core.documents import Document\n",
    "from langchain_core.vectorstores import InMemoryVectorStore\n",
    "from langchain_openai import OpenAIEmbeddings\n",
    "from langgraph.prebuilt import create_react_agent\n",
    "from langchain_core.output_parsers import StrOutputParser\n",
    "from langchain_core.prompts import ChatPromptTemplate\n",
    "from langchain_core.runnables import RunnablePassthrough\n",
    "\n",
    "from pydantic import BaseModel, Field"
   ]
  },
  {
   "cell_type": "code",
   "execution_count": 4,
   "id": "56e98b39-e402-4527-a00e-a1c3c80b335b",
   "metadata": {},
   "outputs": [
    {
     "data": {
      "text/plain": [
       "True"
      ]
     },
     "execution_count": 4,
     "metadata": {},
     "output_type": "execute_result"
    }
   ],
   "source": [
    "load_dotenv()"
   ]
  },
  {
   "cell_type": "code",
   "execution_count": 5,
   "id": "0a812ae1-4a8b-4675-a7d1-a5f5e0707ef6",
   "metadata": {},
   "outputs": [
    {
     "name": "stderr",
     "output_type": "stream",
     "text": [
      "/var/folders/fl/jdrswfjx50v2304lpb3s4wxr0000gn/T/ipykernel_82849/2701302436.py:9: LangChainBetaWarning: This API is in beta and may change in the future.\n",
      "  as_tool = runnable.as_tool(\n"
     ]
    }
   ],
   "source": [
    "class Args(TypedDict):\n",
    "    a: int\n",
    "    b: List[int]\n",
    "\n",
    "def f(x: Args) -> str:\n",
    "    return str(x[\"a\"] * max(x[\"b\"]))\n",
    "\n",
    "runnable = RunnableLambda(f)\n",
    "as_tool = runnable.as_tool(\n",
    "    name=\"My tool\",\n",
    "    description=\"Explanation of when to use tool.\",\n",
    ")"
   ]
  },
  {
   "cell_type": "code",
   "execution_count": 6,
   "id": "97558e08-9202-4777-94ba-f2ec993ea669",
   "metadata": {},
   "outputs": [
    {
     "name": "stdout",
     "output_type": "stream",
     "text": [
      "Explanation of when to use tool.\n"
     ]
    },
    {
     "name": "stderr",
     "output_type": "stream",
     "text": [
      "/var/folders/fl/jdrswfjx50v2304lpb3s4wxr0000gn/T/ipykernel_82849/3738499149.py:2: PydanticDeprecatedSince20: The `schema` method is deprecated; use `model_json_schema` instead. Deprecated in Pydantic V2.0 to be removed in V3.0. See Pydantic V2 Migration Guide at https://errors.pydantic.dev/2.10/migration/\n",
      "  as_tool.args_schema.schema()\n"
     ]
    },
    {
     "data": {
      "text/plain": [
       "{'properties': {'a': {'title': 'A', 'type': 'integer'},\n",
       "  'b': {'items': {'type': 'integer'}, 'title': 'B', 'type': 'array'}},\n",
       " 'required': ['a', 'b'],\n",
       " 'title': 'My tool',\n",
       " 'type': 'object'}"
      ]
     },
     "execution_count": 6,
     "metadata": {},
     "output_type": "execute_result"
    }
   ],
   "source": [
    "print(as_tool.description)\n",
    "as_tool.args_schema.schema()"
   ]
  },
  {
   "cell_type": "code",
   "execution_count": 7,
   "id": "a3963b33-49ba-4737-9ddd-be0774bbad5a",
   "metadata": {},
   "outputs": [
    {
     "data": {
      "text/plain": [
       "'6'"
      ]
     },
     "execution_count": 7,
     "metadata": {},
     "output_type": "execute_result"
    }
   ],
   "source": [
    "as_tool.invoke({\"a\":3, \"b\":[1,2]})"
   ]
  },
  {
   "cell_type": "code",
   "execution_count": 9,
   "id": "cf2a8a35-653e-4d13-9d34-3f2fc5df47c5",
   "metadata": {},
   "outputs": [],
   "source": [
    "def g(x: Dict[str, Any]) -> str:\n",
    "    return str(x[\"a\"] * max(x[\"b\"]))\n",
    "\n",
    "\n",
    "runnable = RunnableLambda(g)\n",
    "as_tool = runnable.as_tool(\n",
    "    name=\"My tool\",\n",
    "    description=\"Explanation of when to use tool.\",\n",
    "    arg_types={\"a\": int, \"b\": List[int]},\n",
    ")"
   ]
  },
  {
   "cell_type": "code",
   "execution_count": 11,
   "id": "b2f17d4d-c643-40e4-9537-41382b717520",
   "metadata": {},
   "outputs": [],
   "source": [
    "class GSchema(BaseModel):\n",
    "    \"\"\"Apply a function to an integer and list of integers.\"\"\"\n",
    "\n",
    "    a: int = Field(..., description=\"Integer\")\n",
    "    b: List[int] = Field(..., description=\"List of ints\")\n",
    "\n",
    "\n",
    "runnable = RunnableLambda(g)\n",
    "as_tool = runnable.as_tool(GSchema)"
   ]
  },
  {
   "cell_type": "code",
   "execution_count": 12,
   "id": "cfa0d2a2-152a-4611-8744-4a8a6a13ca4d",
   "metadata": {},
   "outputs": [],
   "source": [
    "def f(x: str) -> str:\n",
    "    return x + \"a\"\n",
    "\n",
    "\n",
    "def g(x: str) -> str:\n",
    "    return x + \"z\"\n",
    "\n",
    "\n",
    "runnable = RunnableLambda(f) | g\n",
    "as_tool = runnable.as_tool()"
   ]
  },
  {
   "cell_type": "code",
   "execution_count": 13,
   "id": "8228b8eb-0837-48ce-b118-0bc180bb5ab4",
   "metadata": {},
   "outputs": [
    {
     "data": {
      "text/plain": [
       "'baz'"
      ]
     },
     "execution_count": 13,
     "metadata": {},
     "output_type": "execute_result"
    }
   ],
   "source": [
    "as_tool.invoke(\"b\")"
   ]
  },
  {
   "cell_type": "code",
   "execution_count": 15,
   "id": "9298d3f9-0272-4649-b4a4-69f775c1e2ab",
   "metadata": {},
   "outputs": [],
   "source": [
    "llm = init_chat_model(\"gpt-4o-mini\", model_provider=\"openai\")"
   ]
  },
  {
   "cell_type": "code",
   "execution_count": 17,
   "id": "9411913b-4d18-4edf-8fd0-3637953c2530",
   "metadata": {},
   "outputs": [],
   "source": [
    "documents = [\n",
    "    Document(\n",
    "        page_content=\"Dogs are great companions, known for their loyalty and friendliness.\",\n",
    "    ),\n",
    "    Document(\n",
    "        page_content=\"Cats are independent pets that often enjoy their own space.\",\n",
    "    ),\n",
    "]\n",
    "\n",
    "vectorstore = InMemoryVectorStore.from_documents(\n",
    "    documents, embedding=OpenAIEmbeddings()\n",
    ")\n",
    "\n",
    "retriever = vectorstore.as_retriever(\n",
    "    search_type=\"similarity\",\n",
    "    search_kwargs={\"k\": 1},\n",
    ")"
   ]
  },
  {
   "cell_type": "code",
   "execution_count": 19,
   "id": "721b1562-6b7a-4c46-94b6-649aa1fab4cf",
   "metadata": {},
   "outputs": [],
   "source": [
    "tools = [\n",
    "    retriever.as_tool(\n",
    "        name=\"pet_info_retriever\",\n",
    "        description=\"Get information about pets.\",\n",
    "    )\n",
    "]\n",
    "agent = create_react_agent(llm, tools)"
   ]
  },
  {
   "cell_type": "code",
   "execution_count": 20,
   "id": "201c5516-7187-4edd-8712-6900aac75645",
   "metadata": {},
   "outputs": [
    {
     "name": "stdout",
     "output_type": "stream",
     "text": [
      "{'agent': {'messages': [AIMessage(content='Dogs are known for a variety of traits and characteristics, including:\\n\\n1. **Loyalty**: Dogs are often called \"man’s best friend\" due to their unwavering loyalty to their owners and families.\\n\\n2. **Companionship**: They provide emotional support and companionship, making them popular pets in households worldwide.\\n\\n3. **Intelligence**: Many dog breeds are known for their intelligence and ability to learn commands, solve problems, and perform tricks.\\n\\n4. **Sense of Smell**: Dogs have an exceptional sense of smell, which makes them useful in roles such as search and rescue, hunting, and detection of drugs or explosives.\\n\\n5. **Diverse Breeds**: There are hundreds of dog breeds, each with unique physical characteristics, temperaments, and skill sets, making them suitable for various roles, from working dogs to lap dogs.\\n\\n6. **Communication**: Dogs use vocalizations (barking, growling) and body language (tail wagging, ear positioning) to communicate their feelings and intentions.\\n\\n7. **Protectiveness**: Many breeds are known for their protective instincts, guarding their families and homes from intruders.\\n\\n8. **Social Behavior**: Dogs are pack animals and thrive on social interaction, both with humans and other dogs.\\n\\n9. **Exercise and Activity**: They require regular exercise and are known for their playful nature, which makes them great companions for outdoor activities.\\n\\n10. **Training and Work**: Dogs can be trained for various tasks, including service roles such as guide dogs for the visually impaired, therapy dogs, and police or military dogs.\\n\\nThese traits contribute to the special bond that many people have with dogs, making them beloved pets and companions.', additional_kwargs={'refusal': None}, response_metadata={'token_usage': {'completion_tokens': 347, 'prompt_tokens': 58, 'total_tokens': 405, 'completion_tokens_details': {'accepted_prediction_tokens': 0, 'audio_tokens': 0, 'reasoning_tokens': 0, 'rejected_prediction_tokens': 0}, 'prompt_tokens_details': {'audio_tokens': 0, 'cached_tokens': 0}}, 'model_name': 'gpt-4o-mini-2024-07-18', 'system_fingerprint': 'fp_bbfba58e46', 'id': 'chatcmpl-BFR3RuTUbaAfHw8RlZF2oknyIQVoK', 'finish_reason': 'stop', 'logprobs': None}, id='run-be7fa134-8ae2-4760-883f-d15df26e4cb8-0', usage_metadata={'input_tokens': 58, 'output_tokens': 347, 'total_tokens': 405, 'input_token_details': {'audio': 0, 'cache_read': 0}, 'output_token_details': {'audio': 0, 'reasoning': 0}})]}}\n",
      "----\n"
     ]
    }
   ],
   "source": [
    "for chunk in agent.stream({\"messages\": [(\"human\", \"What are dogs known for?\")]}):\n",
    "    print(chunk)\n",
    "    print(\"----\")"
   ]
  },
  {
   "cell_type": "code",
   "execution_count": 22,
   "id": "c0462782-c54a-4027-9335-f3ca8516659f",
   "metadata": {},
   "outputs": [],
   "source": [
    "system_prompt = \"\"\"\n",
    "You are an assistant for question-answering tasks.\n",
    "Use the below context to answer the question. If\n",
    "you don't know the answer, say you don't know.\n",
    "Use three sentences maximum and keep the answer\n",
    "concise.\n",
    "\n",
    "Answer in the style of {answer_style}.\n",
    "\n",
    "Question: {question}\n",
    "\n",
    "Context: {context}\n",
    "\"\"\"\n",
    "\n",
    "prompt = ChatPromptTemplate.from_messages([(\"system\", system_prompt)])\n",
    "\n",
    "rag_chain = (\n",
    "    {\n",
    "        \"context\": itemgetter(\"question\") | retriever,\n",
    "        \"question\": itemgetter(\"question\"),\n",
    "        \"answer_style\": itemgetter(\"answer_style\"),\n",
    "    }\n",
    "    | prompt\n",
    "    | llm\n",
    "    | StrOutputParser()\n",
    ")"
   ]
  },
  {
   "cell_type": "code",
   "execution_count": 23,
   "id": "10676583-21a5-4a70-b6fb-bb15ff1b2d89",
   "metadata": {},
   "outputs": [
    {
     "name": "stderr",
     "output_type": "stream",
     "text": [
      "/var/folders/fl/jdrswfjx50v2304lpb3s4wxr0000gn/T/ipykernel_82849/2875943523.py:1: PydanticDeprecatedSince20: The `schema` method is deprecated; use `model_json_schema` instead. Deprecated in Pydantic V2.0 to be removed in V3.0. See Pydantic V2 Migration Guide at https://errors.pydantic.dev/2.10/migration/\n",
      "  rag_chain.input_schema.schema()\n"
     ]
    },
    {
     "data": {
      "text/plain": [
       "{'properties': {'question': {'title': 'Question'},\n",
       "  'answer_style': {'title': 'Answer Style'}},\n",
       " 'required': ['question', 'answer_style'],\n",
       " 'title': 'RunnableParallel<context,question,answer_style>Input',\n",
       " 'type': 'object'}"
      ]
     },
     "execution_count": 23,
     "metadata": {},
     "output_type": "execute_result"
    }
   ],
   "source": [
    "rag_chain.input_schema.schema()"
   ]
  },
  {
   "cell_type": "code",
   "execution_count": 24,
   "id": "2a76a1e0-5c29-4643-80e7-723d1e338024",
   "metadata": {},
   "outputs": [],
   "source": [
    "rag_tool = rag_chain.as_tool(\n",
    "    name=\"pet_expert\",\n",
    "    description=\"Get information about pets.\",\n",
    ")"
   ]
  },
  {
   "cell_type": "code",
   "execution_count": 25,
   "id": "209c2f9b-0304-4237-bfe2-55f0e53dd78c",
   "metadata": {},
   "outputs": [
    {
     "name": "stdout",
     "output_type": "stream",
     "text": [
      "{'agent': {'messages': [AIMessage(content='', additional_kwargs={'tool_calls': [{'id': 'call_5SgU5yyEJg2HXWP1hv0ujlnC', 'function': {'arguments': '{\"question\":\"What are dogs known for?\",\"answer_style\":\"pirate\"}', 'name': 'pet_expert'}, 'type': 'function'}], 'refusal': None}, response_metadata={'token_usage': {'completion_tokens': 27, 'prompt_tokens': 58, 'total_tokens': 85, 'completion_tokens_details': {'accepted_prediction_tokens': 0, 'audio_tokens': 0, 'reasoning_tokens': 0, 'rejected_prediction_tokens': 0}, 'prompt_tokens_details': {'audio_tokens': 0, 'cached_tokens': 0}}, 'model_name': 'gpt-4o-mini-2024-07-18', 'system_fingerprint': 'fp_27322b4e16', 'id': 'chatcmpl-BFR8INBt8C4DOUkiTnJKQi0eKcAN9', 'finish_reason': 'tool_calls', 'logprobs': None}, id='run-5d154942-2fba-49ad-a41c-d9f569261288-0', tool_calls=[{'name': 'pet_expert', 'args': {'question': 'What are dogs known for?', 'answer_style': 'pirate'}, 'id': 'call_5SgU5yyEJg2HXWP1hv0ujlnC', 'type': 'tool_call'}], usage_metadata={'input_tokens': 58, 'output_tokens': 27, 'total_tokens': 85, 'input_token_details': {'audio': 0, 'cache_read': 0}, 'output_token_details': {'audio': 0, 'reasoning': 0}})]}}\n",
      "----\n",
      "{'tools': {'messages': [ToolMessage(content='Arrr, dogs be known fer their unwavering loyalty and friendly nature, matey! They be fine companions on the high seas and beyond. Trust in a dog, fer they be true-hearted crew members!', name='pet_expert', id='76835396-4a83-4087-8e68-1b42a73a1200', tool_call_id='call_5SgU5yyEJg2HXWP1hv0ujlnC')]}}\n",
      "----\n",
      "{'agent': {'messages': [AIMessage(content='Arrr, dogs be known fer their unwavering loyalty and friendly nature, matey! They be fine companions on the high seas and beyond. Trust in a dog, fer they be true-hearted crew members!', additional_kwargs={'refusal': None}, response_metadata={'token_usage': {'completion_tokens': 43, 'prompt_tokens': 134, 'total_tokens': 177, 'completion_tokens_details': {'accepted_prediction_tokens': 0, 'audio_tokens': 0, 'reasoning_tokens': 0, 'rejected_prediction_tokens': 0}, 'prompt_tokens_details': {'audio_tokens': 0, 'cached_tokens': 0}}, 'model_name': 'gpt-4o-mini-2024-07-18', 'system_fingerprint': 'fp_27322b4e16', 'id': 'chatcmpl-BFR8KvGjTKulElGlMm3U0QuHUVt5X', 'finish_reason': 'stop', 'logprobs': None}, id='run-9f0bcf1c-454f-42f7-9179-63d5f76644ba-0', usage_metadata={'input_tokens': 134, 'output_tokens': 43, 'total_tokens': 177, 'input_token_details': {'audio': 0, 'cache_read': 0}, 'output_token_details': {'audio': 0, 'reasoning': 0}})]}}\n",
      "----\n"
     ]
    }
   ],
   "source": [
    "agent = create_react_agent(llm, [rag_tool])\n",
    "\n",
    "for chunk in agent.stream(\n",
    "    {\"messages\": [(\"human\", \"What would a pirate say dogs are known for?\")]}\n",
    "):\n",
    "    print(chunk)\n",
    "    print(\"----\")"
   ]
  },
  {
   "cell_type": "code",
   "execution_count": null,
   "id": "be816653-7bc3-4729-a2c9-462f5924a670",
   "metadata": {},
   "outputs": [],
   "source": []
  }
 ],
 "metadata": {
  "kernelspec": {
   "display_name": "Python 3 (ipykernel)",
   "language": "python",
   "name": "python3"
  },
  "language_info": {
   "codemirror_mode": {
    "name": "ipython",
    "version": 3
   },
   "file_extension": ".py",
   "mimetype": "text/x-python",
   "name": "python",
   "nbconvert_exporter": "python",
   "pygments_lexer": "ipython3",
   "version": "3.13.0"
  }
 },
 "nbformat": 4,
 "nbformat_minor": 5
}
