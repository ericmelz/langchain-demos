{
 "cells": [
  {
   "cell_type": "code",
   "execution_count": 6,
   "id": "6859bc7b-15ae-4800-b0b7-0d307548da29",
   "metadata": {},
   "outputs": [],
   "source": [
    "from langchain_anthropic import ChatAnthropic\n",
    "from langchain_community.tools.tavily_search import TavilySearchResults\n",
    "from langchain_core.messages import HumanMessage\n",
    "from langgraph.checkpoint.memory import MemorySaver\n",
    "from langgraph.prebuilt import create_react_agent\n",
    "from dotenv import load_dotenv"
   ]
  },
  {
   "cell_type": "code",
   "execution_count": 7,
   "id": "a9638974-9a64-4291-a3c3-7e2c9423289e",
   "metadata": {},
   "outputs": [
    {
     "data": {
      "text/plain": [
       "True"
      ]
     },
     "execution_count": 7,
     "metadata": {},
     "output_type": "execute_result"
    }
   ],
   "source": [
    "load_dotenv()"
   ]
  },
  {
   "cell_type": "code",
   "execution_count": 8,
   "id": "1621dd51-16db-4ab2-b3a1-0de425a52c40",
   "metadata": {},
   "outputs": [],
   "source": [
    "memory = MemorySaver()\n",
    "model = ChatAnthropic(model_name=\"claude-3-5-sonnet-20241022\")\n",
    "search = TavilySearchResults(max_results=2)\n",
    "tools = [search]\n",
    "agent_executor = create_react_agent(model, tools, checkpointer=memory)"
   ]
  },
  {
   "cell_type": "code",
   "execution_count": 9,
   "id": "1e9606bd-de28-4e8c-aa0e-e580ad21b708",
   "metadata": {},
   "outputs": [
    {
     "name": "stdout",
     "output_type": "stream",
     "text": [
      "================================\u001b[1m Human Message \u001b[0m=================================\n",
      "\n",
      "hi im bob! and i live in sf\n",
      "==================================\u001b[1m Ai Message \u001b[0m==================================\n",
      "\n",
      "Hello Bob from San Francisco! I don't see a specific question or request from you that requires using the available tools. I have access to a search tool that can help answer questions about current events and provide comprehensive information. \n",
      "\n",
      "Is there something specific you'd like to know about San Francisco or any other topic? I'd be happy to help search for relevant information for you!\n"
     ]
    }
   ],
   "source": [
    "config = {\"configurable\": {\"thread_id\": \"abc123\"}}\n",
    "for step in agent_executor.stream(\n",
    "    {\"messages\": [HumanMessage(content=\"hi im bob! and i live in sf\")]},\n",
    "    config,\n",
    "    stream_mode=\"values\",\n",
    "):\n",
    "    step[\"messages\"][-1].pretty_print()"
   ]
  },
  {
   "cell_type": "code",
   "execution_count": 10,
   "id": "a3d5b2bc-38f4-491a-86b8-540ca6d58b3a",
   "metadata": {},
   "outputs": [
    {
     "name": "stdout",
     "output_type": "stream",
     "text": [
      "================================\u001b[1m Human Message \u001b[0m=================================\n",
      "\n",
      "whats the weather where I live?\n",
      "==================================\u001b[1m Ai Message \u001b[0m==================================\n",
      "\n",
      "[{'text': 'Let me search for current weather information in San Francisco.', 'type': 'text'}, {'id': 'toolu_013MenUZz4n5RVuQ3iGYPJMG', 'input': {'query': 'current weather San Francisco CA'}, 'name': 'tavily_search_results_json', 'type': 'tool_use'}]\n",
      "Tool Calls:\n",
      "  tavily_search_results_json (toolu_013MenUZz4n5RVuQ3iGYPJMG)\n",
      " Call ID: toolu_013MenUZz4n5RVuQ3iGYPJMG\n",
      "  Args:\n",
      "    query: current weather San Francisco CA\n",
      "=================================\u001b[1m Tool Message \u001b[0m=================================\n",
      "Name: tavily_search_results_json\n",
      "\n",
      "[{\"title\": \"Weather in San Francisco, CA\", \"url\": \"https://www.weatherapi.com/\", \"content\": \"{'location': {'name': 'San Francisco', 'region': 'California', 'country': 'United States of America', 'lat': 37.775, 'lon': -122.4183, 'tz_id': 'America/Los_Angeles', 'localtime_epoch': 1744506153, 'localtime': '2025-04-12 18:02'}, 'current': {'last_updated_epoch': 1744506000, 'last_updated': '2025-04-12 18:00', 'temp_c': 16.7, 'temp_f': 62.1, 'is_day': 1, 'condition': {'text': 'Partly cloudy', 'icon': '//cdn.weatherapi.com/weather/64x64/day/116.png', 'code': 1003}, 'wind_mph': 10.5, 'wind_kph': 16.9, 'wind_degree': 268, 'wind_dir': 'W', 'pressure_mb': 1016.0, 'pressure_in': 30.01, 'precip_mm': 0.0, 'precip_in': 0.0, 'humidity': 52, 'cloud': 25, 'feelslike_c': 16.7, 'feelslike_f': 62.1, 'windchill_c': 15.8, 'windchill_f': 60.4, 'heatindex_c': 15.8, 'heatindex_f': 60.4, 'dewpoint_c': 13.4, 'dewpoint_f': 56.2, 'vis_km': 16.0, 'vis_miles': 9.0, 'uv': 0.7, 'gust_mph': 14.4, 'gust_kph': 23.1}}\", \"score\": 0.9266753}, {\"title\": \"Weather San Francisco in April 2025: Temperature & Climate\", \"url\": \"https://en.climate-data.org/north-america/united-states-of-america/california/san-francisco-385/t/april-4/\", \"content\": \"| Max. Temperature °C (°F) | 14 °C\\n(57.3) °F\\n| 14.9 °C\\n(58.7) °F\\n| 16.2 °C\\n(61.2) °F\\n| 17.4 °C\\n(63.3) °F\\n| 19.2 °C\\n(66.5) °F\\n| 21.5 °C\\n(70.8) °F\\n| 21.8 °C\\n(71.2) °F\\n| 22.2 °C\\n(71.9) °F\\n| 23.1 °C\\n(73.6) °F\\n| 21.3 °C\\n(70.3) °F\\n| 17.1 °C\\n(62.8) °F\\n| 13.9 °C\\n(57.1) °F\\n|\\n| Precipitation / Rainfall mm (in) | 113\\n(4)\\n| 118\\n(4)\\n| 83\\n(3)\\n| 40\\n(1)\\n| 21\\n(0)\\n| 6\\n(0)\\n| 2\\n(0)\\n| 2\\n(0)\\n| 3\\n(0)\\n| 25\\n(0)\\n| 57\\n(2)\\n| 111\\n(4)\\n|\\n| Humidity(%) | 79% | 80% | 78% | 72% | 70% | 69% | 74% | 74% | 71% | 70% | 76% | 78% | [...] | 13. April | 12 °C | 54 °F | 17 °C | 62 °F | 9 °C | 49 °F | 11 °C | 52 °F | 3.8 mm | 0.2 inch. |\\n| 14. April | 12 °C | 54 °F | 17 °C | 63 °F | 8 °C | 47 °F | 11 °C | 52 °F | 1.4 mm | 0.1 inch. |\\n| 15. April | 12 °C | 54 °F | 17 °C | 63 °F | 8 °C | 47 °F | 11 °C | 52 °F | 0.4 mm | 0.0 inch. |\\n| 16. April | 12 °C | 54 °F | 17 °C | 63 °F | 9 °C | 48 °F | 11 °C | 52 °F | 1.2 mm | 0.0 inch. |\\n| 17. April | 13 °C | 55 °F | 17 °C | 63 °F | 9 °C | 49 °F | 11 °C | 52 °F | 1.3 mm | 0.1 inch. | [...] (50.8) °F\\n| 11.6 °C\\n(52.9) °F\\n| 12.5 °C\\n(54.6) °F\\n| 14.1 °C\\n(57.4) °F\\n| 15.9 °C\\n(60.7) °F\\n| 16.3 °C\\n(61.4) °F\\n| 16.7 °C\\n(62.1) °F\\n| 17.1 °C\\n(62.7) °F\\n| 15.7 °C\\n(60.2) °F\\n| 12.4 °C\\n(54.4) °F\\n| 9.9 °C\\n(49.8) °F\\n|\\n| Min. Temperature °C (°F) | 6.2 °C\\n(43.2) °F\\n| 7.1 °C\\n(44.8) °F\\n| 8.2 °C\\n(46.8) °F\\n| 8.9 °C\\n(48.1) °F\\n| 10.3 °C\\n(50.6) °F\\n| 11.8 °C\\n(53.3) °F\\n| 12.7 °C\\n(54.9) °F\\n| 13.3 °C\\n(55.9) °F\\n| 13.1 °C\\n(55.6) °F\\n| 11.9 °C\\n(53.4) °F\\n| 9 °C\\n(48.2) °F\\n| 6.8 °C\\n(44.2) °F\\n|\", \"score\": 0.8812988}]\n",
      "==================================\u001b[1m Ai Message \u001b[0m==================================\n",
      "\n",
      "Based on the search results, here's the current weather in San Francisco:\n",
      "- Temperature: 62.1°F (16.7°C)\n",
      "- Condition: Partly cloudy\n",
      "- Wind: 10.5 mph from the West\n",
      "- Humidity: 52%\n",
      "- Feels like: 62.1°F (16.7°C)\n",
      "- Visibility: 9 miles\n",
      "\n",
      "It's a mild, partly cloudy day in San Francisco with moderate wind conditions. The temperature is comfortable, typical for the city's climate.\n"
     ]
    }
   ],
   "source": [
    "for step in agent_executor.stream(\n",
    "    {\"messages\": [HumanMessage(content=\"whats the weather where I live?\")]},\n",
    "    config,\n",
    "    stream_mode=\"values\",\n",
    "):\n",
    "    step[\"messages\"][-1].pretty_print()"
   ]
  },
  {
   "cell_type": "code",
   "execution_count": 11,
   "id": "fc792cfb-05a8-400c-8216-dc7242f0ebe8",
   "metadata": {},
   "outputs": [],
   "source": [
    "from langchain_community.tools.tavily_search import TavilySearchResults"
   ]
  },
  {
   "cell_type": "code",
   "execution_count": 12,
   "id": "14283a5f-ef17-4269-abce-f5ede0535151",
   "metadata": {},
   "outputs": [
    {
     "name": "stdout",
     "output_type": "stream",
     "text": [
      "[{'title': 'Weather in San Francisco', 'url': 'https://www.weatherapi.com/', 'content': \"{'location': {'name': 'San Francisco', 'region': 'California', 'country': 'United States of America', 'lat': 37.775, 'lon': -122.4183, 'tz_id': 'America/Los_Angeles', 'localtime_epoch': 1744506213, 'localtime': '2025-04-12 18:03'}, 'current': {'last_updated_epoch': 1744506000, 'last_updated': '2025-04-12 18:00', 'temp_c': 16.7, 'temp_f': 62.1, 'is_day': 1, 'condition': {'text': 'Partly cloudy', 'icon': '//cdn.weatherapi.com/weather/64x64/day/116.png', 'code': 1003}, 'wind_mph': 10.5, 'wind_kph': 16.9, 'wind_degree': 268, 'wind_dir': 'W', 'pressure_mb': 1016.0, 'pressure_in': 30.01, 'precip_mm': 0.0, 'precip_in': 0.0, 'humidity': 52, 'cloud': 25, 'feelslike_c': 16.7, 'feelslike_f': 62.1, 'windchill_c': 15.8, 'windchill_f': 60.4, 'heatindex_c': 15.8, 'heatindex_f': 60.4, 'dewpoint_c': 13.4, 'dewpoint_f': 56.2, 'vis_km': 16.0, 'vis_miles': 9.0, 'uv': 0.7, 'gust_mph': 14.4, 'gust_kph': 23.1}}\", 'score': 0.9787769}, {'title': 'Sunday, April 13, 2025. San Francisco, CA - Weather Forecast', 'url': 'https://weathershogun.com/weather/usa/ca/san-francisco/480/april/2025-04-13', 'content': 'San Francisco, California Weather: Sunday, April 13, 2025. Sunny weather, clear skies and sunny weather. Day 61°. Night 46°. Precipitation 0 %.', 'score': 0.9377661}]\n"
     ]
    }
   ],
   "source": [
    "search = TavilySearchResults(max_results=2)\n",
    "search_results = search.invoke(\"what is the weather in SF\")\n",
    "print(search_results)"
   ]
  },
  {
   "cell_type": "code",
   "execution_count": 13,
   "id": "3b71348e-56af-4c74-a284-d9f4ce82fbba",
   "metadata": {},
   "outputs": [],
   "source": [
    "tools = [search]"
   ]
  },
  {
   "cell_type": "code",
   "execution_count": 14,
   "id": "26b64e5b-c1d4-4829-bf5d-426e2e5b769c",
   "metadata": {},
   "outputs": [],
   "source": [
    "from langchain.chat_models import init_chat_model"
   ]
  },
  {
   "cell_type": "code",
   "execution_count": 15,
   "id": "590966b4-da4a-4585-91ac-019f4ccffbd1",
   "metadata": {},
   "outputs": [],
   "source": [
    "model = init_chat_model(\"gpt-4\", model_provider=\"openai\")"
   ]
  },
  {
   "cell_type": "code",
   "execution_count": 23,
   "id": "8110a8c4-dedb-4458-9245-b3790a667228",
   "metadata": {},
   "outputs": [],
   "source": [
    "from langchain_core.messages import HumanMessage, SystemMessage"
   ]
  },
  {
   "cell_type": "code",
   "execution_count": 17,
   "id": "8623711c-1f9d-4b92-937d-514cb629bc6c",
   "metadata": {},
   "outputs": [
    {
     "data": {
      "text/plain": [
       "'Hello! How can I assist you today?'"
      ]
     },
     "execution_count": 17,
     "metadata": {},
     "output_type": "execute_result"
    }
   ],
   "source": [
    "response = model.invoke([HumanMessage(content=\"hi!\")])\n",
    "response.content"
   ]
  },
  {
   "cell_type": "code",
   "execution_count": 18,
   "id": "314c5ed0-471d-45ef-97f8-d35fbf01bf61",
   "metadata": {},
   "outputs": [],
   "source": [
    "model_with_tools = model.bind_tools(tools)"
   ]
  },
  {
   "cell_type": "code",
   "execution_count": 19,
   "id": "5db115b1-751b-4020-8dcc-c1ecd77471d9",
   "metadata": {},
   "outputs": [
    {
     "name": "stdout",
     "output_type": "stream",
     "text": [
      "ContentString: Hello! How can I assist you today?\n",
      "ToolCalls: []\n"
     ]
    }
   ],
   "source": [
    "response = model_with_tools.invoke([HumanMessage(content=\"Hi!\")])\n",
    "\n",
    "print(f\"ContentString: {response.content}\")\n",
    "print(f\"ToolCalls: {response.tool_calls}\")"
   ]
  },
  {
   "cell_type": "code",
   "execution_count": 20,
   "id": "c0140550-7335-4492-82a5-37471aeec262",
   "metadata": {},
   "outputs": [
    {
     "name": "stdout",
     "output_type": "stream",
     "text": [
      "ContentString: I'm sorry for any confusion, but as an AI, I'm not equipped to answer real-time or current event questions like current weather reports. However, you can use weather forecast websites or apps to get the weather updates you need.\n",
      "ToolCalls: []\n"
     ]
    }
   ],
   "source": [
    "response = model_with_tools.invoke([HumanMessage(content=\"What's the weather in SF?\")])\n",
    "\n",
    "print(f\"ContentString: {response.content}\")\n",
    "print(f\"ToolCalls: {response.tool_calls}\")"
   ]
  },
  {
   "cell_type": "code",
   "execution_count": 21,
   "id": "4e77623a-a00d-4cb0-bec7-fc995c7ee94b",
   "metadata": {},
   "outputs": [
    {
     "data": {
      "text/plain": [
       "[TavilySearchResults(max_results=2, api_wrapper=TavilySearchAPIWrapper(tavily_api_key=SecretStr('**********')))]"
      ]
     },
     "execution_count": 21,
     "metadata": {},
     "output_type": "execute_result"
    }
   ],
   "source": [
    "tools"
   ]
  },
  {
   "cell_type": "code",
   "execution_count": 24,
   "id": "e471ccd8-3339-425e-889c-660f535b2c27",
   "metadata": {},
   "outputs": [
    {
     "name": "stdout",
     "output_type": "stream",
     "text": [
      "ContentString: \n",
      "ToolCalls: [{'name': 'tavily_search_results_json', 'args': {'query': 'current weather in San Francisco'}, 'id': 'call_BsSueoNs3ZEIKqq7KldTZJ7l', 'type': 'tool_call'}]\n"
     ]
    }
   ],
   "source": [
    "response = model_with_tools.invoke([\n",
    "    SystemMessage(content=\"You have access to a search tool for answering real-time questions.\"),\n",
    "    HumanMessage(content=\"What's the weather in SF?\")\n",
    "])\n",
    "\n",
    "print(f\"ContentString: {response.content}\")\n",
    "print(f\"ToolCalls: {response.tool_calls}\")"
   ]
  },
  {
   "cell_type": "code",
   "execution_count": 25,
   "id": "d4d55267-982d-476a-bb70-b663fa179c51",
   "metadata": {},
   "outputs": [],
   "source": [
    "from langgraph.prebuilt import create_react_agent\n",
    "\n",
    "agent_executor = create_react_agent(model, tools)"
   ]
  },
  {
   "cell_type": "code",
   "execution_count": 27,
   "id": "db2af362-9f3a-458b-b34c-be0626ce118c",
   "metadata": {},
   "outputs": [
    {
     "data": {
      "text/plain": [
       "[HumanMessage(content='hi', additional_kwargs={}, response_metadata={}, id='04542a87-bbcd-45c3-92b0-1fbae7a7a1f3'),\n",
       " AIMessage(content='Hello! How can I assist you today?', additional_kwargs={'refusal': None}, response_metadata={'token_usage': {'completion_tokens': 11, 'prompt_tokens': 82, 'total_tokens': 93, 'completion_tokens_details': {'accepted_prediction_tokens': 0, 'audio_tokens': 0, 'reasoning_tokens': 0, 'rejected_prediction_tokens': 0}, 'prompt_tokens_details': {'audio_tokens': 0, 'cached_tokens': 0}}, 'model_name': 'gpt-4-0613', 'system_fingerprint': None, 'id': 'chatcmpl-BLgQBGwB1phWnJytUwZdmp1UzO3PE', 'finish_reason': 'stop', 'logprobs': None}, id='run-e8f50e54-c198-4637-8988-d27903d6036b-0', usage_metadata={'input_tokens': 82, 'output_tokens': 11, 'total_tokens': 93, 'input_token_details': {'audio': 0, 'cache_read': 0}, 'output_token_details': {'audio': 0, 'reasoning': 0}})]"
      ]
     },
     "execution_count": 27,
     "metadata": {},
     "output_type": "execute_result"
    }
   ],
   "source": [
    "response = agent_executor.invoke({\"messages\": [HumanMessage(content=\"hi\")]})\n",
    "response[\"messages\"]"
   ]
  },
  {
   "cell_type": "code",
   "execution_count": 28,
   "id": "30b0da68-1e89-479a-affb-e3fee2473917",
   "metadata": {},
   "outputs": [
    {
     "name": "stdout",
     "output_type": "stream",
     "text": [
      "================================\u001b[1m Human Message \u001b[0m=================================\n",
      "\n",
      "whats the weather in sf?\n",
      "==================================\u001b[1m Ai Message \u001b[0m==================================\n",
      "Tool Calls:\n",
      "  tavily_search_results_json (call_PY9qzfEeTaEkTlXnKStpBlXz)\n",
      " Call ID: call_PY9qzfEeTaEkTlXnKStpBlXz\n",
      "  Args:\n",
      "    query: current weather in San Francisco\n",
      "=================================\u001b[1m Tool Message \u001b[0m=================================\n",
      "Name: tavily_search_results_json\n",
      "\n",
      "[{\"title\": \"Sunday, April 13, 2025. San Francisco, CA - Weather Forecast\", \"url\": \"https://weathershogun.com/weather/usa/ca/san-francisco/480/april/2025-04-13\", \"content\": \"San Francisco, California Weather: Sunday, April 13, 2025. Sunny weather, clear skies and sunny weather. Day 61°. Night 46°. Precipitation 0 %.\", \"score\": 0.93898576}, {\"title\": \"Weather in San Francisco\", \"url\": \"https://www.weatherapi.com/\", \"content\": \"{'location': {'name': 'San Francisco', 'region': 'California', 'country': 'United States of America', 'lat': 37.775, 'lon': -122.4183, 'tz_id': 'America/Los_Angeles', 'localtime_epoch': 1744504766, 'localtime': '2025-04-12 17:39'}, 'current': {'last_updated_epoch': 1744504200, 'last_updated': '2025-04-12 17:30', 'temp_c': 16.7, 'temp_f': 62.1, 'is_day': 1, 'condition': {'text': 'Partly cloudy', 'icon': '//cdn.weatherapi.com/weather/64x64/day/116.png', 'code': 1003}, 'wind_mph': 11.2, 'wind_kph': 18.0, 'wind_degree': 270, 'wind_dir': 'W', 'pressure_mb': 1016.0, 'pressure_in': 30.01, 'precip_mm': 0.0, 'precip_in': 0.0, 'humidity': 52, 'cloud': 25, 'feelslike_c': 16.7, 'feelslike_f': 62.1, 'windchill_c': 16.2, 'windchill_f': 61.2, 'heatindex_c': 16.2, 'heatindex_f': 61.2, 'dewpoint_c': 13.4, 'dewpoint_f': 56.0, 'vis_km': 16.0, 'vis_miles': 9.0, 'uv': 1.9, 'gust_mph': 14.7, 'gust_kph': 23.7}}\", \"score\": 0.8862532}]\n",
      "==================================\u001b[1m Ai Message \u001b[0m==================================\n",
      "\n",
      "The current weather in San Francisco, California is partly cloudy with a temperature of 62.1°F (16.7°C). The wind is coming from the West at 11.2 mph, and there is no precipitation currently. [Source](https://www.weatherapi.com/)\n"
     ]
    }
   ],
   "source": [
    "for step in agent_executor.stream(\n",
    "    {\"messages\": [HumanMessage(content=\"whats the weather in sf?\")]},\n",
    "    stream_mode=\"values\",\n",
    "):\n",
    "    step[\"messages\"][-1].pretty_print()"
   ]
  },
  {
   "cell_type": "code",
   "execution_count": 29,
   "id": "2ce22f27-9846-4c08-ad53-c27ef9d5def2",
   "metadata": {},
   "outputs": [
    {
     "name": "stdout",
     "output_type": "stream",
     "text": [
      "The| current| weather| in| San| Francisco|,| California|,| as| of| Sunday|,| April| |13|,| |202|5|,| is| sunny|,| with| clear| skies| and| a| temperature| of| |62|.|1|°F| during| the| day| and| |46| °|F| at| night|.| There|'s| no| precipitation|.| The| wind| is| coming| from| the| West| at| a| speed| of| |11|.|2| mph|.| [|Source|](|https|://|www|.weather|api|.com|/)\n",
      "|"
     ]
    }
   ],
   "source": [
    "for step, metadata in agent_executor.stream(\n",
    "    {\"messages\": [HumanMessage(content=\"whats the weather in sf?\")]},\n",
    "    stream_mode=\"messages\",\n",
    "):\n",
    "    if metadata[\"langgraph_node\"] == \"agent\" and (text := step.text()):\n",
    "        print(text, end=\"|\")"
   ]
  },
  {
   "cell_type": "code",
   "execution_count": 30,
   "id": "fe83405e-9665-4606-a35c-49cb769759fe",
   "metadata": {},
   "outputs": [],
   "source": [
    "from langgraph.checkpoint.memory import MemorySaver\n",
    "\n",
    "memory = MemorySaver()"
   ]
  },
  {
   "cell_type": "code",
   "execution_count": 31,
   "id": "4fe31194-5e6e-4360-9179-059a8f8c2cb6",
   "metadata": {},
   "outputs": [],
   "source": [
    "agent_executor = create_react_agent(model, tools, checkpointer=memory)\n",
    "\n",
    "config = {\"configurable\": {\"thread_id\": \"abc123\"}}"
   ]
  },
  {
   "cell_type": "code",
   "execution_count": 32,
   "id": "a1c249a3-39c9-478d-8c54-20717917b53a",
   "metadata": {},
   "outputs": [
    {
     "name": "stdout",
     "output_type": "stream",
     "text": [
      "{'agent': {'messages': [AIMessage(content='Hello Bob! How can I assist you today?', additional_kwargs={'refusal': None}, response_metadata={'token_usage': {'completion_tokens': 12, 'prompt_tokens': 85, 'total_tokens': 97, 'completion_tokens_details': {'accepted_prediction_tokens': 0, 'audio_tokens': 0, 'reasoning_tokens': 0, 'rejected_prediction_tokens': 0}, 'prompt_tokens_details': {'audio_tokens': 0, 'cached_tokens': 0}}, 'model_name': 'gpt-4-0613', 'system_fingerprint': None, 'id': 'chatcmpl-BLgddY9CAunaQjYZW9mmEjAcSPzjG', 'finish_reason': 'stop', 'logprobs': None}, id='run-13456e6c-f70e-4bed-9723-efb1762108dd-0', usage_metadata={'input_tokens': 85, 'output_tokens': 12, 'total_tokens': 97, 'input_token_details': {'audio': 0, 'cache_read': 0}, 'output_token_details': {'audio': 0, 'reasoning': 0}})]}}\n",
      "---\n"
     ]
    }
   ],
   "source": [
    "for chunk in agent_executor.stream(\n",
    "    {\"messages\": [HumanMessage(content=\"hi im bob!\")]}, config\n",
    "):\n",
    "    print(chunk)\n",
    "    print(\"---\")"
   ]
  },
  {
   "cell_type": "code",
   "execution_count": 34,
   "id": "96a6770b-1ccc-4c67-b65e-44b029a8047b",
   "metadata": {},
   "outputs": [
    {
     "name": "stdout",
     "output_type": "stream",
     "text": [
      "{'agent': {'messages': [AIMessage(content='Your name is Bob.', additional_kwargs={'refusal': None}, response_metadata={'token_usage': {'completion_tokens': 7, 'prompt_tokens': 108, 'total_tokens': 115, 'completion_tokens_details': {'accepted_prediction_tokens': 0, 'audio_tokens': 0, 'reasoning_tokens': 0, 'rejected_prediction_tokens': 0}, 'prompt_tokens_details': {'audio_tokens': 0, 'cached_tokens': 0}}, 'model_name': 'gpt-4-0613', 'system_fingerprint': None, 'id': 'chatcmpl-BLgekz5bCg6QJjj7CQPBZU4OLAOaL', 'finish_reason': 'stop', 'logprobs': None}, id='run-731f0656-1dcb-4bd3-a249-61bc20cf4548-0', usage_metadata={'input_tokens': 108, 'output_tokens': 7, 'total_tokens': 115, 'input_token_details': {'audio': 0, 'cache_read': 0}, 'output_token_details': {'audio': 0, 'reasoning': 0}})]}}\n",
      "---\n"
     ]
    }
   ],
   "source": [
    "for chunk in agent_executor.stream(\n",
    "    {\"messages\": [HumanMessage(content=\"whats my name?\")]}, config\n",
    "):\n",
    "    print(chunk)\n",
    "    print(\"---\")"
   ]
  },
  {
   "cell_type": "code",
   "execution_count": 35,
   "id": "0993b15b-fb51-44e5-bb79-2f071671f99d",
   "metadata": {},
   "outputs": [
    {
     "name": "stdout",
     "output_type": "stream",
     "text": [
      "{'agent': {'messages': [AIMessage(content=\"As an AI model developed by OpenAI, I don't have access to personal data about individuals unless it has been shared with me in the course of our conversation. I am designed to respect user privacy and confidentiality. So, I don't know your name.\", additional_kwargs={'refusal': None}, response_metadata={'token_usage': {'completion_tokens': 54, 'prompt_tokens': 86, 'total_tokens': 140, 'completion_tokens_details': {'accepted_prediction_tokens': 0, 'audio_tokens': 0, 'reasoning_tokens': 0, 'rejected_prediction_tokens': 0}, 'prompt_tokens_details': {'audio_tokens': 0, 'cached_tokens': 0}}, 'model_name': 'gpt-4-0613', 'system_fingerprint': None, 'id': 'chatcmpl-BLggDHpBnChVZIeLgWcnTMliO37xx', 'finish_reason': 'stop', 'logprobs': None}, id='run-842b014d-9d6f-4134-a8e1-ee6be9d4488e-0', usage_metadata={'input_tokens': 86, 'output_tokens': 54, 'total_tokens': 140, 'input_token_details': {'audio': 0, 'cache_read': 0}, 'output_token_details': {'audio': 0, 'reasoning': 0}})]}}\n",
      "---\n"
     ]
    }
   ],
   "source": [
    "config = {\"configurable\": {\"thread_id\": \"xyz123\"}}\n",
    "for chunk in agent_executor.stream(\n",
    "    {\"messages\": [HumanMessage(content=\"whats my name?\")]}, config\n",
    "):\n",
    "    print(chunk)\n",
    "    print(\"---\")"
   ]
  },
  {
   "cell_type": "code",
   "execution_count": null,
   "id": "b9e9c9fc-ffbf-458b-921a-45ecce77dc21",
   "metadata": {},
   "outputs": [],
   "source": []
  }
 ],
 "metadata": {
  "kernelspec": {
   "display_name": "Python 3 (ipykernel)",
   "language": "python",
   "name": "python3"
  },
  "language_info": {
   "codemirror_mode": {
    "name": "ipython",
    "version": 3
   },
   "file_extension": ".py",
   "mimetype": "text/x-python",
   "name": "python",
   "nbconvert_exporter": "python",
   "pygments_lexer": "ipython3",
   "version": "3.13.0"
  }
 },
 "nbformat": 4,
 "nbformat_minor": 5
}
